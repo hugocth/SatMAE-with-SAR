{
 "cells": [
  {
   "cell_type": "code",
   "execution_count": 4,
   "metadata": {},
   "outputs": [],
   "source": [
    "import pandas as pd\n",
    "import os"
   ]
  },
  {
   "cell_type": "code",
   "execution_count": 6,
   "metadata": {},
   "outputs": [],
   "source": [
    "test_df = pd.read_csv(\"test_10k.csv\")\n",
    "test_df[\"image_path\"] = test_df[\"image_path\"].apply(lambda x: os.path.join(x.split(\"/\")[-3], x.split(\"/\")[-2], x.split(\"/\")[-1]))\n",
    "test_df.to_csv(\"test_10k.csv\")"
   ]
  },
  {
   "cell_type": "code",
   "execution_count": 7,
   "metadata": {},
   "outputs": [],
   "source": [
    "train_df = pd.read_csv(\"train_filtered.csv\")\n",
    "train_df[\"image_path\"] = train_df[\"image_path\"].apply(lambda x: os.path.join(x.split(\"/\")[-3], x.split(\"/\")[-2], x.split(\"/\")[-1]))\n",
    "train_df.to_csv(\"train_filtered.csv\")"
   ]
  }
 ],
 "metadata": {
  "kernelspec": {
   "display_name": "sentinel",
   "language": "python",
   "name": "python3"
  },
  "language_info": {
   "codemirror_mode": {
    "name": "ipython",
    "version": 3
   },
   "file_extension": ".py",
   "mimetype": "text/x-python",
   "name": "python",
   "nbconvert_exporter": "python",
   "pygments_lexer": "ipython3",
   "version": "3.8.16"
  },
  "orig_nbformat": 4
 },
 "nbformat": 4,
 "nbformat_minor": 2
}
